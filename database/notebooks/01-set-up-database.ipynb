{
    "cells": [
        {
            "cell_type": "markdown",
            "metadata": {
                "azdata_cell_guid": "a2782576-c8ad-483e-bd03-289dd656844c"
            },
            "source": [
                "# Set up Azure SQL Database for catching the bus application\n",
                "\n",
                "This is a SQL Notebook, which allows you to separate text and code blocks and save code results. Azure Data Studio supports several languages, referred to as kernels, including SQL, PowerShell, Python, and more.\n",
                "\n",
                "In this activity, you'll learn how to import data into Azure SQL Database and create tables to store the route data, geofence data, and real-time bus information.\n",
                "\n",
                "## Connect to `bus-db`\n",
                "\n",
                "At the top of the window, select **Select Connection** \\> **Change Connection** next to \"Attach to\".\n",
                "\n",
                "Under _Recent Connections_ select your `bus-db` connection.\n",
                "\n",
                "You should now see it listed next to _Attach to_."
            ]
        },
        {
            "cell_type": "markdown",
            "metadata": {
                "azdata_cell_guid": "f348fdae-e69a-4271-907d-e6b4e0619151"
            },
            "source": [
                "## Part 1: Import the bus route data from Azure Blob Storage\n",
                "\n",
                "The first step in configuring the database for the scenario is to import a CSV file that contains route information data. The following script will walk you through that process. Full documentation on \"Accessing data in a CSV file referencing an Azure blob storage location\" here: [https://docs.microsoft.com/sql/relational-databases/import-export/examples-of-bulk-access-to-data-in-azure-blob-storage](https://docs.microsoft.com/sql/relational-databases/import-export/examples-of-bulk-access-to-data-in-azure-blob-storage).\n",
                "\n",
                "You need to first create a table and schema for data to be loaded into."
            ]
        },
        {
            "cell_type": "code",
            "execution_count": 1,
            "metadata": {
                "azdata_cell_guid": "c14329fd-fee4-4014-a77d-ed5b59785685"
            },
            "outputs": [
                {
                    "data": {
                        "text/html": [
                            "Commands completed successfully."
                        ]
                    },
                    "metadata": {},
                    "output_type": "display_data"
                },
                {
                    "data": {
                        "text/html": [
                            "Commands completed successfully."
                        ]
                    },
                    "metadata": {},
                    "output_type": "display_data"
                },
                {
                    "data": {
                        "text/html": [
                            "Commands completed successfully."
                        ]
                    },
                    "metadata": {},
                    "output_type": "display_data"
                },
                {
                    "data": {
                        "text/html": [
                            "Commands completed successfully."
                        ]
                    },
                    "metadata": {},
                    "output_type": "display_data"
                },
                {
                    "data": {
                        "text/html": [
                            "Total execution time: 00:00:00.193"
                        ]
                    },
                    "metadata": {},
                    "output_type": "display_data"
                }
            ],
            "source": [
                "CREATE TABLE [dbo].[Routes]\n",
                "(\n",
                "\t[Id] [int] NOT NULL,\n",
                "\t[AgencyId] [varchar](100) NULL,\n",
                "\t[ShortName] [varchar](100) NULL,\n",
                "\t[Description] [varchar](1000) NULL,\n",
                "\t[Type] [int] NULL\n",
                ")\n",
                "\n",
                "GO\n",
                "ALTER TABLE [dbo].[Routes] ADD PRIMARY KEY CLUSTERED \n",
                "(\n",
                "\t[Id] ASC\n",
                ")\n",
                "GO"
            ]
        },
        {
            "cell_type": "markdown",
            "metadata": {
                "azdata_cell_guid": "962dcc3f-be18-4cc3-bdfc-d670c962a0dc"
            },
            "source": [
                "The next step is to create a master key."
            ]
        },
        {
            "cell_type": "code",
            "execution_count": 2,
            "metadata": {
                "azdata_cell_guid": "5a690353-b1f9-43b2-85e1-2a7467f7b3ad"
            },
            "outputs": [
                {
                    "data": {
                        "text/html": [
                            "Commands completed successfully."
                        ]
                    },
                    "metadata": {},
                    "output_type": "display_data"
                },
                {
                    "data": {
                        "text/html": [
                            "Total execution time: 00:00:00.046"
                        ]
                    },
                    "metadata": {},
                    "output_type": "display_data"
                }
            ],
            "source": [
                "CREATE MASTER KEY ENCRYPTION BY PASSWORD = 'mySuperStr0n9P@assw0rd!'"
            ]
        },
        {
            "cell_type": "markdown",
            "metadata": {
                "azdata_cell_guid": "3a30a8e0-5054-471c-84f3-6e28dc47c694"
            },
            "source": [
                "A master key is required to create a `DATABASE SCOPED CREDENTIAL` value because Blob storage is not configured to allow public (anonymous) access. The credential refers to the Blob storage account, and the data portion specifies the container for the store return data.\n",
                "\n",
                "We use a shared access signature as the identity that Azure SQL knows how to interpret. The secret is the SAS token that you can generate from the Blob storage account. In this example, the SAS token for a storage account that you don't have access to is provided so you can access only the store return data."
            ]
        },
        {
            "cell_type": "code",
            "execution_count": 3,
            "metadata": {
                "azdata_cell_guid": "92c0d495-d239-4dd1-b095-05f8fa0a6cef"
            },
            "outputs": [
                {
                    "data": {
                        "text/html": [
                            "Commands completed successfully."
                        ]
                    },
                    "metadata": {},
                    "output_type": "display_data"
                },
                {
                    "data": {
                        "text/html": [
                            "Total execution time: 00:00:00.041"
                        ]
                    },
                    "metadata": {},
                    "output_type": "display_data"
                }
            ],
            "source": [
                "CREATE DATABASE SCOPED CREDENTIAL AzureBlobCredentials\n",
                "WITH IDENTITY = 'SHARED ACCESS SIGNATURE',\n",
                "SECRET = 'sp=r&st=2021-03-12T00:47:24Z&se=2025-03-11T07:47:24Z&spr=https&sv=2020-02-10&sr=c&sig=BmuxFevKhWgbvo%2Bj8TlLYObjbB7gbvWzQaAgvGcg50c%3D' -- Omit any leading question mark\n"
            ]
        },
        {
            "cell_type": "markdown",
            "metadata": {
                "azdata_cell_guid": "bca17886-bcfa-4eaa-87b1-94e94e801ce7"
            },
            "source": [
                "Next, create an external data source to the container."
            ]
        },
        {
            "cell_type": "code",
            "execution_count": 4,
            "metadata": {
                "azdata_cell_guid": "aea81643-4d8a-44b2-a915-8d797f036be5"
            },
            "outputs": [
                {
                    "data": {
                        "text/html": [
                            "Commands completed successfully."
                        ]
                    },
                    "metadata": {},
                    "output_type": "display_data"
                },
                {
                    "data": {
                        "text/html": [
                            "Total execution time: 00:00:00.042"
                        ]
                    },
                    "metadata": {},
                    "output_type": "display_data"
                }
            ],
            "source": [
                "CREATE EXTERNAL DATA SOURCE RouteData\n",
                "WITH (\n",
                "\tTYPE = blob_storage,\n",
                "\tLOCATION = 'https://azuresqlworkshopsa.blob.core.windows.net/bus',\n",
                "\tCREDENTIAL = AzureBlobCredentials\n",
                ")"
            ]
        },
        {
            "cell_type": "markdown",
            "metadata": {
                "azdata_cell_guid": "7658b21b-c9a0-4ffd-a2dc-7af3d0f87842"
            },
            "source": [
                "Now you are ready to bring in the data."
            ]
        },
        {
            "cell_type": "code",
            "execution_count": 18,
            "metadata": {
                "azdata_cell_guid": "3f642673-43ec-4215-91da-a3a37776fb2f",
                "tags": []
            },
            "outputs": [
                {
                    "ename": "",
                    "evalue": "Msg 547, Level 16, State 0, Line 1\r\nThe DELETE statement conflicted with the REFERENCE constraint \"FK__MonitoredRoutes__Router\". The conflict occurred in database \"bus-db\", table \"dbo.MonitoredRoutes\", column 'RouteId'.",
                    "output_type": "error",
                    "traceback": []
                },
                {
                    "data": {
                        "text/html": [
                            "The statement has been terminated."
                        ]
                    },
                    "metadata": {},
                    "output_type": "display_data"
                },
                {
                    "ename": "",
                    "evalue": "Msg 2627, Level 14, State 1, Line 2\r\nViolation of PRIMARY KEY constraint 'PK__Routes__3214EC07FD0F7CD6'. Cannot insert duplicate key in object 'dbo.Routes'. The duplicate key value is (100001).",
                    "output_type": "error",
                    "traceback": []
                },
                {
                    "data": {
                        "text/html": [
                            "The statement has been terminated."
                        ]
                    },
                    "metadata": {},
                    "output_type": "display_data"
                },
                {
                    "data": {
                        "text/html": [
                            "Total execution time: 00:00:00.194"
                        ]
                    },
                    "metadata": {},
                    "output_type": "display_data"
                }
            ],
            "source": [
                "DELETE FROM dbo.[Routes];\n",
                "INSERT INTO dbo.[Routes]\n",
                "\t([Id], [AgencyId], [ShortName], [Description], [Type])\n",
                "SELECT \n",
                "\t[Id], [AgencyId], [ShortName], [Description], [Type]\n",
                "FROM \n",
                "OPENROWSET\n",
                "\t( \n",
                "\t\tBULk 'routes.txt', \n",
                "\t\tDATA_SOURCE = 'RouteData', \n",
                "\t\tFORMATFILE = 'routes.fmt', \n",
                "\t\tFORMATFILE_DATA_SOURCE = 'RouteData', \n",
                "\t\tFIRSTROW=2,\n",
                "\t\tFORMAT='csv'\n",
                "\t) t;"
            ]
        },
        {
            "cell_type": "markdown",
            "metadata": {
                "azdata_cell_guid": "622d6f84-6ece-4b52-a2a1-8666cec71128"
            },
            "source": [
                "Finally, let's look at what's been inserted relative to the route we'll be tracking."
            ]
        },
        {
            "cell_type": "code",
            "execution_count": 6,
            "metadata": {
                "azdata_cell_guid": "48fa0ba2-64cb-4230-a9b2-e7264994d7d7"
            },
            "outputs": [
                {
                    "data": {
                        "text/html": [
                            "(1 row affected)"
                        ]
                    },
                    "metadata": {},
                    "output_type": "display_data"
                },
                {
                    "data": {
                        "text/html": [
                            "Total execution time: 00:00:00.096"
                        ]
                    },
                    "metadata": {},
                    "output_type": "display_data"
                },
                {
                    "data": {
                        "application/vnd.dataresource+json": {
                            "data": [
                                {
                                    "0": "100113",
                                    "1": "1",
                                    "2": "221",
                                    "3": "Education Hill - Crossroads - Eastgate",
                                    "4": "3"
                                }
                            ],
                            "schema": {
                                "fields": [
                                    {
                                        "name": "Id"
                                    },
                                    {
                                        "name": "AgencyId"
                                    },
                                    {
                                        "name": "ShortName"
                                    },
                                    {
                                        "name": "Description"
                                    },
                                    {
                                        "name": "Type"
                                    }
                                ]
                            }
                        },
                        "text/html": [
                            "<table>\n",
                            "<tr><th>Id</th><th>AgencyId</th><th>ShortName</th><th>Description</th><th>Type</th></tr>\n",
                            "<tr><td>100113</td><td>1</td><td>221</td><td>Education Hill - Crossroads - Eastgate</td><td>3</td></tr>\n",
                            "</table>"
                        ]
                    },
                    "execution_count": 6,
                    "metadata": {},
                    "output_type": "execute_result"
                }
            ],
            "source": [
                "SELECT * FROM dbo.[Routes] WHERE [Description] LIKE '%Education Hill%'"
            ]
        },
        {
            "cell_type": "markdown",
            "metadata": {
                "azdata_cell_guid": "102d8657-f5ab-4921-809d-d77fc9b41ad2"
            },
            "source": [
                "## Part 2: Create necessary tables\n",
                "\n",
                "### Select a route to monitor\n",
                "\n",
                "Now that you've added the route information, you can select the route to be a \"Monitored Route\". This will come in handy if you later choose to monitor multiple routes. For now, you will just add the \"Education Hill - Crossroads - Eastgate\" route."
            ]
        },
        {
            "cell_type": "code",
            "execution_count": 7,
            "metadata": {
                "azdata_cell_guid": "b8d596bf-0540-49fa-b206-ce52397c0459"
            },
            "outputs": [
                {
                    "data": {
                        "text/html": [
                            "Commands completed successfully."
                        ]
                    },
                    "metadata": {},
                    "output_type": "display_data"
                },
                {
                    "data": {
                        "text/html": [
                            "Commands completed successfully."
                        ]
                    },
                    "metadata": {},
                    "output_type": "display_data"
                },
                {
                    "data": {
                        "text/html": [
                            "Commands completed successfully."
                        ]
                    },
                    "metadata": {},
                    "output_type": "display_data"
                },
                {
                    "data": {
                        "text/html": [
                            "Commands completed successfully."
                        ]
                    },
                    "metadata": {},
                    "output_type": "display_data"
                },
                {
                    "data": {
                        "text/html": [
                            "Commands completed successfully."
                        ]
                    },
                    "metadata": {},
                    "output_type": "display_data"
                },
                {
                    "data": {
                        "text/html": [
                            "Commands completed successfully."
                        ]
                    },
                    "metadata": {},
                    "output_type": "display_data"
                },
                {
                    "data": {
                        "text/html": [
                            "(1 row affected)"
                        ]
                    },
                    "metadata": {},
                    "output_type": "display_data"
                },
                {
                    "data": {
                        "text/html": [
                            "Total execution time: 00:00:00.279"
                        ]
                    },
                    "metadata": {},
                    "output_type": "display_data"
                }
            ],
            "source": [
                "-- Create MonitoredRoutes table\n",
                "CREATE TABLE [dbo].[MonitoredRoutes]\n",
                "(\n",
                "\t[RouteId] [int] NOT NULL\n",
                ")\n",
                "GO\n",
                "ALTER TABLE [dbo].[MonitoredRoutes] ADD PRIMARY KEY CLUSTERED \n",
                "(\n",
                "\t[RouteId] ASC\n",
                ")\n",
                "GO\n",
                "ALTER TABLE [dbo].[MonitoredRoutes] \n",
                "ADD CONSTRAINT [FK__MonitoredRoutes__Router] \n",
                "FOREIGN KEY ([RouteId]) REFERENCES [dbo].[Routes] ([Id])\n",
                "GO\n",
                "\n",
                "-- Monitor the \"Education Hill - Crossroads - Eastgate\" route\n",
                "INSERT INTO dbo.[MonitoredRoutes] (RouteId) VALUES (100113);"
            ]
        },
        {
            "cell_type": "markdown",
            "metadata": {
                "azdata_cell_guid": "a53ad031-a7c3-40a9-bf5b-695a148dbea9"
            },
            "source": [
                "### Select a GeoFence to monitor\n",
                "\n",
                "In addition to monitoring specific bus routes, you will want to monitor certain GeoFences so you can ultimately get notified when your bus enters or exits where you are (i.e. the GeoFence). For now, you will add a small GeoFence that represents the area near the \"Crossroads\" bus stop."
            ]
        },
        {
            "cell_type": "code",
            "execution_count": 8,
            "metadata": {
                "azdata_cell_guid": "1cc9823a-4b83-4e91-a36f-8b503abf0347"
            },
            "outputs": [
                {
                    "data": {
                        "text/html": [
                            "Commands completed successfully."
                        ]
                    },
                    "metadata": {},
                    "output_type": "display_data"
                },
                {
                    "data": {
                        "text/html": [
                            "(1 row affected)"
                        ]
                    },
                    "metadata": {},
                    "output_type": "display_data"
                },
                {
                    "data": {
                        "text/html": [
                            "Commands completed successfully."
                        ]
                    },
                    "metadata": {},
                    "output_type": "display_data"
                },
                {
                    "data": {
                        "text/html": [
                            "Commands completed successfully."
                        ]
                    },
                    "metadata": {},
                    "output_type": "display_data"
                },
                {
                    "data": {
                        "text/html": [
                            "Commands completed successfully."
                        ]
                    },
                    "metadata": {},
                    "output_type": "display_data"
                },
                {
                    "data": {
                        "text/html": [
                            "Commands completed successfully."
                        ]
                    },
                    "metadata": {},
                    "output_type": "display_data"
                },
                {
                    "data": {
                        "text/html": [
                            "Commands completed successfully."
                        ]
                    },
                    "metadata": {},
                    "output_type": "display_data"
                },
                {
                    "data": {
                        "text/html": [
                            "Commands completed successfully."
                        ]
                    },
                    "metadata": {},
                    "output_type": "display_data"
                },
                {
                    "data": {
                        "text/html": [
                            "Commands completed successfully."
                        ]
                    },
                    "metadata": {},
                    "output_type": "display_data"
                },
                {
                    "data": {
                        "text/html": [
                            "(1 row affected)"
                        ]
                    },
                    "metadata": {},
                    "output_type": "display_data"
                },
                {
                    "data": {
                        "text/html": [
                            "Total execution time: 00:00:01.307"
                        ]
                    },
                    "metadata": {},
                    "output_type": "display_data"
                },
                {
                    "data": {
                        "application/vnd.dataresource+json": {
                            "data": [
                                {
                                    "0": "1"
                                }
                            ],
                            "schema": {
                                "fields": [
                                    {
                                        "name": "(No column name)"
                                    }
                                ]
                            }
                        },
                        "text/html": [
                            "<table>\n",
                            "<tr><th>(No column name)</th></tr>\n",
                            "<tr><td>1</td></tr>\n",
                            "</table>"
                        ]
                    },
                    "execution_count": 8,
                    "metadata": {},
                    "output_type": "execute_result"
                }
            ],
            "source": [
                "-- Create GeoFences table\n",
                "CREATE SEQUENCE [dbo].[global]\n",
                "    AS INT\n",
                "    START WITH 1\n",
                "    INCREMENT BY 1\n",
                "GO\n",
                "CREATE TABLE [dbo].[GeoFences](\n",
                "\t[Id] [int] NOT NULL,\n",
                "\t[Name] [nvarchar](100) NOT NULL,\n",
                "\t[GeoFence] [geography] NOT NULL\n",
                ") \n",
                "GO\n",
                "ALTER TABLE [dbo].[GeoFences] ADD PRIMARY KEY CLUSTERED \n",
                "(\n",
                "\t[Id] ASC\n",
                ")\n",
                "GO\n",
                "ALTER TABLE [dbo].[GeoFences] ADD DEFAULT (NEXT VALUE FOR [dbo].[global]) FOR [Id]\n",
                "GO\n",
                "CREATE SPATIAL INDEX [ixsp] ON [dbo].[GeoFences]\n",
                "(\n",
                "\t[GeoFence]\n",
                ") USING GEOGRAPHY_AUTO_GRID \n",
                "GO\n",
                "\n",
                "-- Create a GeoFence\n",
                "INSERT INTO dbo.[GeoFences] \n",
                "\t([Name], [GeoFence]) \n",
                "VALUES\n",
                "\t('Crossroads', 0xE6100000010407000000B4A78EA822CF4740E8D7539530895EC03837D51CEACE4740E80BFBE630895EC0ECD7DF53EACE4740E81B2C50F0885EC020389F0D03CF4740E99BD2A1F0885EC00CB8BEB203CF4740E9DB04FC23895EC068C132B920CF4740E9DB04FC23895EC0B4A78EA822CF4740E8D7539530895EC001000000020000000001000000FFFFFFFF0000000003);\n",
                "GO\n"
            ]
        },
        {
            "cell_type": "markdown",
            "metadata": {
                "azdata_cell_guid": "46ac87ea-ab53-4c87-9b41-57a3b96924a0"
            },
            "source": [
                "### Create table to track activity in the GeoFence\n",
                "\n",
                "Next, create a system-versioned table to keep track of what activity is currently happening within the GeoFence. This means tracking buses entering, exiting, and staying within a given GeoFence. Another table within that table will serve as a histroical log for all activity."
            ]
        },
        {
            "cell_type": "code",
            "execution_count": 9,
            "metadata": {
                "azdata_cell_guid": "3e3da57b-2132-4788-b46c-20374d080b2f"
            },
            "outputs": [
                {
                    "data": {
                        "text/html": [
                            "Commands completed successfully."
                        ]
                    },
                    "metadata": {},
                    "output_type": "display_data"
                },
                {
                    "data": {
                        "text/html": [
                            "Commands completed successfully."
                        ]
                    },
                    "metadata": {},
                    "output_type": "display_data"
                },
                {
                    "data": {
                        "text/html": [
                            "Commands completed successfully."
                        ]
                    },
                    "metadata": {},
                    "output_type": "display_data"
                },
                {
                    "data": {
                        "text/html": [
                            "Total execution time: 00:00:00.126"
                        ]
                    },
                    "metadata": {},
                    "output_type": "display_data"
                }
            ],
            "source": [
                "CREATE TABLE [dbo].[GeoFencesActive] \n",
                "(\n",
                "\t[Id] [int] IDENTITY(1,1) NOT NULL PRIMARY KEY CLUSTERED,\n",
                "\t[VehicleId] [int] NOT NULL,\n",
                "\t[DirectionId] [int] NOT NULL,\n",
                "\t[GeoFenceId] [int] NOT NULL,\n",
                "\t[SysStartTime] [datetime2](7) GENERATED ALWAYS AS ROW START NOT NULL,\n",
                "\t[SysEndTime] [datetime2](7) GENERATED ALWAYS AS ROW END NOT NULL,\n",
                "\tPERIOD FOR SYSTEM_TIME ([SysStartTime], [SysEndTime])\n",
                ")\n",
                "WITH ( SYSTEM_VERSIONING = ON ( HISTORY_TABLE = [dbo].[GeoFencesActiveHistory] ) )\n",
                "GO"
            ]
        },
        {
            "cell_type": "markdown",
            "metadata": {
                "azdata_cell_guid": "c8d2f9b4-af0e-48c2-a594-e21bb7e297a7"
            },
            "source": [
                "### Create a table to store real-time bus data\n",
                "\n",
                "You'll need one last table to store the real-time bus data as it comes in."
            ]
        },
        {
            "cell_type": "code",
            "execution_count": 10,
            "metadata": {
                "azdata_cell_guid": "59797569-2711-4675-ab8a-532e0e2a7c22"
            },
            "outputs": [
                {
                    "data": {
                        "text/html": [
                            "Commands completed successfully."
                        ]
                    },
                    "metadata": {},
                    "output_type": "display_data"
                },
                {
                    "data": {
                        "text/html": [
                            "Commands completed successfully."
                        ]
                    },
                    "metadata": {},
                    "output_type": "display_data"
                },
                {
                    "data": {
                        "text/html": [
                            "Commands completed successfully."
                        ]
                    },
                    "metadata": {},
                    "output_type": "display_data"
                },
                {
                    "data": {
                        "text/html": [
                            "Commands completed successfully."
                        ]
                    },
                    "metadata": {},
                    "output_type": "display_data"
                },
                {
                    "data": {
                        "text/html": [
                            "Commands completed successfully."
                        ]
                    },
                    "metadata": {},
                    "output_type": "display_data"
                },
                {
                    "data": {
                        "text/html": [
                            "Commands completed successfully."
                        ]
                    },
                    "metadata": {},
                    "output_type": "display_data"
                },
                {
                    "data": {
                        "text/html": [
                            "Commands completed successfully."
                        ]
                    },
                    "metadata": {},
                    "output_type": "display_data"
                },
                {
                    "data": {
                        "text/html": [
                            "Commands completed successfully."
                        ]
                    },
                    "metadata": {},
                    "output_type": "display_data"
                },
                {
                    "data": {
                        "text/html": [
                            "Total execution time: 00:00:00.327"
                        ]
                    },
                    "metadata": {},
                    "output_type": "display_data"
                }
            ],
            "source": [
                "CREATE TABLE [dbo].[BusData](\n",
                "\t[Id] [int] IDENTITY(1,1) NOT NULL,\n",
                "\t[DirectionId] [int] NOT NULL,\n",
                "\t[RouteId] [int] NOT NULL,\n",
                "\t[VehicleId] [int] NOT NULL,\n",
                "\t[Location] [geography] NOT NULL,\n",
                "\t[TimestampUTC] [datetime2](7) NOT NULL,\n",
                "\t[ReceivedAtUTC] [datetime2](7) NOT NULL\n",
                ")\n",
                "GO\n",
                "ALTER TABLE [dbo].[BusData] ADD DEFAULT (SYSUTCDATETIME()) FOR [ReceivedAtUTC]\n",
                "GO\n",
                "ALTER TABLE [dbo].[BusData] ADD PRIMARY KEY CLUSTERED \n",
                "(\n",
                "\t[Id] ASC\n",
                ") \n",
                "GO\n",
                "CREATE NONCLUSTERED INDEX [ix1] ON [dbo].[BusData]\n",
                "(\n",
                "\t[ReceivedAtUTC] DESC\n",
                ") \n",
                "GO\n",
                "CREATE SPATIAL INDEX [ixsp] ON [dbo].[BusData]\n",
                "(\n",
                "\t[Location]\n",
                ") USING GEOGRAPHY_AUTO_GRID \n",
                "GO"
            ]
        },
        {
            "cell_type": "markdown",
            "metadata": {
                "azdata_cell_guid": "48c43e3d-b0d0-462a-aaab-da6ca728b2de"
            },
            "source": [
                "Confirm you've created the tables with the following."
            ]
        },
        {
            "cell_type": "code",
            "execution_count": 17,
            "metadata": {
                "azdata_cell_guid": "5619e4aa-306c-46e5-9779-699bb29e387a"
            },
            "outputs": [
                {
                    "data": {
                        "text/html": [
                            "(6 rows affected)"
                        ]
                    },
                    "metadata": {},
                    "output_type": "display_data"
                },
                {
                    "data": {
                        "text/html": [
                            "Total execution time: 00:00:00.064"
                        ]
                    },
                    "metadata": {},
                    "output_type": "display_data"
                },
                {
                    "data": {
                        "application/vnd.dataresource+json": {
                            "data": [
                                {
                                    "0": "bus-db",
                                    "1": "dbo",
                                    "2": "Routes",
                                    "3": "BASE TABLE"
                                },
                                {
                                    "0": "bus-db",
                                    "1": "dbo",
                                    "2": "MonitoredRoutes",
                                    "3": "BASE TABLE"
                                },
                                {
                                    "0": "bus-db",
                                    "1": "dbo",
                                    "2": "GeoFences",
                                    "3": "BASE TABLE"
                                },
                                {
                                    "0": "bus-db",
                                    "1": "dbo",
                                    "2": "GeoFencesActive",
                                    "3": "BASE TABLE"
                                },
                                {
                                    "0": "bus-db",
                                    "1": "dbo",
                                    "2": "GeoFencesActiveHistory",
                                    "3": "BASE TABLE"
                                },
                                {
                                    "0": "bus-db",
                                    "1": "dbo",
                                    "2": "BusData",
                                    "3": "BASE TABLE"
                                }
                            ],
                            "schema": {
                                "fields": [
                                    {
                                        "name": "TABLE_CATALOG"
                                    },
                                    {
                                        "name": "TABLE_SCHEMA"
                                    },
                                    {
                                        "name": "TABLE_NAME"
                                    },
                                    {
                                        "name": "TABLE_TYPE"
                                    }
                                ]
                            }
                        },
                        "text/html": [
                            "<table>\n",
                            "<tr><th>TABLE_CATALOG</th><th>TABLE_SCHEMA</th><th>TABLE_NAME</th><th>TABLE_TYPE</th></tr>\n",
                            "<tr><td>bus-db</td><td>dbo</td><td>Routes</td><td>BASE TABLE</td></tr>\n",
                            "<tr><td>bus-db</td><td>dbo</td><td>MonitoredRoutes</td><td>BASE TABLE</td></tr>\n",
                            "<tr><td>bus-db</td><td>dbo</td><td>GeoFences</td><td>BASE TABLE</td></tr>\n",
                            "<tr><td>bus-db</td><td>dbo</td><td>GeoFencesActive</td><td>BASE TABLE</td></tr>\n",
                            "<tr><td>bus-db</td><td>dbo</td><td>GeoFencesActiveHistory</td><td>BASE TABLE</td></tr>\n",
                            "<tr><td>bus-db</td><td>dbo</td><td>BusData</td><td>BASE TABLE</td></tr>\n",
                            "</table>"
                        ]
                    },
                    "execution_count": 17,
                    "metadata": {},
                    "output_type": "execute_result"
                }
            ],
            "source": [
                "SELECT * FROM INFORMATION_SCHEMA.TABLES WHERE TABLE_TYPE = 'BASE TABLE' AND TABLE_SCHEMA = 'dbo'"
            ]
        }
    ],
    "metadata": {
        "kernelspec": {
            "display_name": "SQL",
            "language": "sql",
            "name": "SQL"
        },
        "language_info": {
            "name": "sql",
            "version": ""
        }
    },
    "nbformat": 4,
    "nbformat_minor": 2
}
